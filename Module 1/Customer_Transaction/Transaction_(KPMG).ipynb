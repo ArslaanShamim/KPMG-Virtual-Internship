{
  "nbformat": 4,
  "nbformat_minor": 0,
  "metadata": {
    "colab": {
      "provenance": []
    },
    "kernelspec": {
      "name": "python3",
      "display_name": "Python 3"
    },
    "language_info": {
      "name": "python"
    }
  },
  "cells": [
    {
      "cell_type": "markdown",
      "source": [
        "#### Import Libraries to perform specifi c task such as data manipulation, data analysis, numerical computations, creatingvarious types of plots, statistical visualizations of plots."
      ],
      "metadata": {
        "id": "zsyGcAqojLDu"
      }
    },
    {
      "cell_type": "code",
      "execution_count": null,
      "metadata": {
        "id": "6I7QMOyVAdj_"
      },
      "outputs": [],
      "source": [
        "import pandas as pd\n",
        "import numpy as np\n",
        "import matplotlib.pyplot as plt\n",
        "import seaborn as sns"
      ]
    },
    {
      "cell_type": "markdown",
      "source": [
        "#### Load Data (Transaction) and save in variable callad \"tran\"."
      ],
      "metadata": {
        "id": "0xz124SYjMWK"
      }
    },
    {
      "cell_type": "code",
      "source": [
        "tran = pd.read_csv(\"/content/transaction.csv\")\n",
        "tran"
      ],
      "metadata": {
        "colab": {
          "base_uri": "https://localhost:8080/",
          "height": 583
        },
        "id": "cw0wcuZQAv_-",
        "outputId": "9616f144-f22a-495a-ecec-1d55d51bc068"
      },
      "execution_count": null,
      "outputs": [
        {
          "output_type": "execute_result",
          "data": {
            "text/plain": [
              "       transaction_id  product_id  customer_id transaction_date online_order  \\\n",
              "0                   1           2         2950       25/02/2017        False   \n",
              "1                   2           3         3120       21/05/2017         True   \n",
              "2                   3          37          402       16/10/2017        False   \n",
              "3                   4          88         3135       31/08/2017        False   \n",
              "4                   5          78          787       01/10/2017         True   \n",
              "...               ...         ...          ...              ...          ...   \n",
              "19995           19996          51         1018       24/06/2017         True   \n",
              "19996           19997          41          127       09/11/2017         True   \n",
              "19997           19998          87         2284       14/04/2017         True   \n",
              "19998           19999           6         2764       03/07/2017        False   \n",
              "19999           20000          11         1144       22/09/2017         True   \n",
              "\n",
              "      order_status           brand product_line product_class product_size  \\\n",
              "0         Approved           Solex     Standard        medium       medium   \n",
              "1         Approved   Trek Bicycles     Standard        medium        large   \n",
              "2         Approved      OHM Cycles     Standard           low       medium   \n",
              "3         Approved  Norco Bicycles     Standard        medium       medium   \n",
              "4         Approved  Giant Bicycles     Standard        medium        large   \n",
              "...            ...             ...          ...           ...          ...   \n",
              "19995     Approved      OHM Cycles     Standard          high       medium   \n",
              "19996     Approved           Solex         Road        medium       medium   \n",
              "19997     Approved      OHM Cycles     Standard        medium       medium   \n",
              "19998     Approved      OHM Cycles     Standard          high       medium   \n",
              "19999     Approved   Trek Bicycles     Standard        medium        small   \n",
              "\n",
              "       list_price standard_cost  product_first_sold_date  \n",
              "0           71.49        $53.62                  41245.0  \n",
              "1         2091.47       $388.92                  41701.0  \n",
              "2         1793.43       $248.82                  36361.0  \n",
              "3         1198.46       $381.10                  36145.0  \n",
              "4         1765.30       $709.48                  42226.0  \n",
              "...           ...           ...                      ...  \n",
              "19995     2005.66     $1,203.40                  37823.0  \n",
              "19996      416.98       $312.74                  35560.0  \n",
              "19997     1636.90        $44.71                  40410.0  \n",
              "19998      227.88       $136.73                  38216.0  \n",
              "19999     1775.81     $1,580.47                  36334.0  \n",
              "\n",
              "[20000 rows x 13 columns]"
            ],
            "text/html": [
              "\n",
              "  <div id=\"df-588b6efe-2750-4c24-a624-1a8ffd78fc9d\" class=\"colab-df-container\">\n",
              "    <div>\n",
              "<style scoped>\n",
              "    .dataframe tbody tr th:only-of-type {\n",
              "        vertical-align: middle;\n",
              "    }\n",
              "\n",
              "    .dataframe tbody tr th {\n",
              "        vertical-align: top;\n",
              "    }\n",
              "\n",
              "    .dataframe thead th {\n",
              "        text-align: right;\n",
              "    }\n",
              "</style>\n",
              "<table border=\"1\" class=\"dataframe\">\n",
              "  <thead>\n",
              "    <tr style=\"text-align: right;\">\n",
              "      <th></th>\n",
              "      <th>transaction_id</th>\n",
              "      <th>product_id</th>\n",
              "      <th>customer_id</th>\n",
              "      <th>transaction_date</th>\n",
              "      <th>online_order</th>\n",
              "      <th>order_status</th>\n",
              "      <th>brand</th>\n",
              "      <th>product_line</th>\n",
              "      <th>product_class</th>\n",
              "      <th>product_size</th>\n",
              "      <th>list_price</th>\n",
              "      <th>standard_cost</th>\n",
              "      <th>product_first_sold_date</th>\n",
              "    </tr>\n",
              "  </thead>\n",
              "  <tbody>\n",
              "    <tr>\n",
              "      <th>0</th>\n",
              "      <td>1</td>\n",
              "      <td>2</td>\n",
              "      <td>2950</td>\n",
              "      <td>25/02/2017</td>\n",
              "      <td>False</td>\n",
              "      <td>Approved</td>\n",
              "      <td>Solex</td>\n",
              "      <td>Standard</td>\n",
              "      <td>medium</td>\n",
              "      <td>medium</td>\n",
              "      <td>71.49</td>\n",
              "      <td>$53.62</td>\n",
              "      <td>41245.0</td>\n",
              "    </tr>\n",
              "    <tr>\n",
              "      <th>1</th>\n",
              "      <td>2</td>\n",
              "      <td>3</td>\n",
              "      <td>3120</td>\n",
              "      <td>21/05/2017</td>\n",
              "      <td>True</td>\n",
              "      <td>Approved</td>\n",
              "      <td>Trek Bicycles</td>\n",
              "      <td>Standard</td>\n",
              "      <td>medium</td>\n",
              "      <td>large</td>\n",
              "      <td>2091.47</td>\n",
              "      <td>$388.92</td>\n",
              "      <td>41701.0</td>\n",
              "    </tr>\n",
              "    <tr>\n",
              "      <th>2</th>\n",
              "      <td>3</td>\n",
              "      <td>37</td>\n",
              "      <td>402</td>\n",
              "      <td>16/10/2017</td>\n",
              "      <td>False</td>\n",
              "      <td>Approved</td>\n",
              "      <td>OHM Cycles</td>\n",
              "      <td>Standard</td>\n",
              "      <td>low</td>\n",
              "      <td>medium</td>\n",
              "      <td>1793.43</td>\n",
              "      <td>$248.82</td>\n",
              "      <td>36361.0</td>\n",
              "    </tr>\n",
              "    <tr>\n",
              "      <th>3</th>\n",
              "      <td>4</td>\n",
              "      <td>88</td>\n",
              "      <td>3135</td>\n",
              "      <td>31/08/2017</td>\n",
              "      <td>False</td>\n",
              "      <td>Approved</td>\n",
              "      <td>Norco Bicycles</td>\n",
              "      <td>Standard</td>\n",
              "      <td>medium</td>\n",
              "      <td>medium</td>\n",
              "      <td>1198.46</td>\n",
              "      <td>$381.10</td>\n",
              "      <td>36145.0</td>\n",
              "    </tr>\n",
              "    <tr>\n",
              "      <th>4</th>\n",
              "      <td>5</td>\n",
              "      <td>78</td>\n",
              "      <td>787</td>\n",
              "      <td>01/10/2017</td>\n",
              "      <td>True</td>\n",
              "      <td>Approved</td>\n",
              "      <td>Giant Bicycles</td>\n",
              "      <td>Standard</td>\n",
              "      <td>medium</td>\n",
              "      <td>large</td>\n",
              "      <td>1765.30</td>\n",
              "      <td>$709.48</td>\n",
              "      <td>42226.0</td>\n",
              "    </tr>\n",
              "    <tr>\n",
              "      <th>...</th>\n",
              "      <td>...</td>\n",
              "      <td>...</td>\n",
              "      <td>...</td>\n",
              "      <td>...</td>\n",
              "      <td>...</td>\n",
              "      <td>...</td>\n",
              "      <td>...</td>\n",
              "      <td>...</td>\n",
              "      <td>...</td>\n",
              "      <td>...</td>\n",
              "      <td>...</td>\n",
              "      <td>...</td>\n",
              "      <td>...</td>\n",
              "    </tr>\n",
              "    <tr>\n",
              "      <th>19995</th>\n",
              "      <td>19996</td>\n",
              "      <td>51</td>\n",
              "      <td>1018</td>\n",
              "      <td>24/06/2017</td>\n",
              "      <td>True</td>\n",
              "      <td>Approved</td>\n",
              "      <td>OHM Cycles</td>\n",
              "      <td>Standard</td>\n",
              "      <td>high</td>\n",
              "      <td>medium</td>\n",
              "      <td>2005.66</td>\n",
              "      <td>$1,203.40</td>\n",
              "      <td>37823.0</td>\n",
              "    </tr>\n",
              "    <tr>\n",
              "      <th>19996</th>\n",
              "      <td>19997</td>\n",
              "      <td>41</td>\n",
              "      <td>127</td>\n",
              "      <td>09/11/2017</td>\n",
              "      <td>True</td>\n",
              "      <td>Approved</td>\n",
              "      <td>Solex</td>\n",
              "      <td>Road</td>\n",
              "      <td>medium</td>\n",
              "      <td>medium</td>\n",
              "      <td>416.98</td>\n",
              "      <td>$312.74</td>\n",
              "      <td>35560.0</td>\n",
              "    </tr>\n",
              "    <tr>\n",
              "      <th>19997</th>\n",
              "      <td>19998</td>\n",
              "      <td>87</td>\n",
              "      <td>2284</td>\n",
              "      <td>14/04/2017</td>\n",
              "      <td>True</td>\n",
              "      <td>Approved</td>\n",
              "      <td>OHM Cycles</td>\n",
              "      <td>Standard</td>\n",
              "      <td>medium</td>\n",
              "      <td>medium</td>\n",
              "      <td>1636.90</td>\n",
              "      <td>$44.71</td>\n",
              "      <td>40410.0</td>\n",
              "    </tr>\n",
              "    <tr>\n",
              "      <th>19998</th>\n",
              "      <td>19999</td>\n",
              "      <td>6</td>\n",
              "      <td>2764</td>\n",
              "      <td>03/07/2017</td>\n",
              "      <td>False</td>\n",
              "      <td>Approved</td>\n",
              "      <td>OHM Cycles</td>\n",
              "      <td>Standard</td>\n",
              "      <td>high</td>\n",
              "      <td>medium</td>\n",
              "      <td>227.88</td>\n",
              "      <td>$136.73</td>\n",
              "      <td>38216.0</td>\n",
              "    </tr>\n",
              "    <tr>\n",
              "      <th>19999</th>\n",
              "      <td>20000</td>\n",
              "      <td>11</td>\n",
              "      <td>1144</td>\n",
              "      <td>22/09/2017</td>\n",
              "      <td>True</td>\n",
              "      <td>Approved</td>\n",
              "      <td>Trek Bicycles</td>\n",
              "      <td>Standard</td>\n",
              "      <td>medium</td>\n",
              "      <td>small</td>\n",
              "      <td>1775.81</td>\n",
              "      <td>$1,580.47</td>\n",
              "      <td>36334.0</td>\n",
              "    </tr>\n",
              "  </tbody>\n",
              "</table>\n",
              "<p>20000 rows × 13 columns</p>\n",
              "</div>\n",
              "    <div class=\"colab-df-buttons\">\n",
              "\n",
              "  <div class=\"colab-df-container\">\n",
              "    <button class=\"colab-df-convert\" onclick=\"convertToInteractive('df-588b6efe-2750-4c24-a624-1a8ffd78fc9d')\"\n",
              "            title=\"Convert this dataframe to an interactive table.\"\n",
              "            style=\"display:none;\">\n",
              "\n",
              "  <svg xmlns=\"http://www.w3.org/2000/svg\" height=\"24px\" viewBox=\"0 -960 960 960\">\n",
              "    <path d=\"M120-120v-720h720v720H120Zm60-500h600v-160H180v160Zm220 220h160v-160H400v160Zm0 220h160v-160H400v160ZM180-400h160v-160H180v160Zm440 0h160v-160H620v160ZM180-180h160v-160H180v160Zm440 0h160v-160H620v160Z\"/>\n",
              "  </svg>\n",
              "    </button>\n",
              "\n",
              "  <style>\n",
              "    .colab-df-container {\n",
              "      display:flex;\n",
              "      gap: 12px;\n",
              "    }\n",
              "\n",
              "    .colab-df-convert {\n",
              "      background-color: #E8F0FE;\n",
              "      border: none;\n",
              "      border-radius: 50%;\n",
              "      cursor: pointer;\n",
              "      display: none;\n",
              "      fill: #1967D2;\n",
              "      height: 32px;\n",
              "      padding: 0 0 0 0;\n",
              "      width: 32px;\n",
              "    }\n",
              "\n",
              "    .colab-df-convert:hover {\n",
              "      background-color: #E2EBFA;\n",
              "      box-shadow: 0px 1px 2px rgba(60, 64, 67, 0.3), 0px 1px 3px 1px rgba(60, 64, 67, 0.15);\n",
              "      fill: #174EA6;\n",
              "    }\n",
              "\n",
              "    .colab-df-buttons div {\n",
              "      margin-bottom: 4px;\n",
              "    }\n",
              "\n",
              "    [theme=dark] .colab-df-convert {\n",
              "      background-color: #3B4455;\n",
              "      fill: #D2E3FC;\n",
              "    }\n",
              "\n",
              "    [theme=dark] .colab-df-convert:hover {\n",
              "      background-color: #434B5C;\n",
              "      box-shadow: 0px 1px 3px 1px rgba(0, 0, 0, 0.15);\n",
              "      filter: drop-shadow(0px 1px 2px rgba(0, 0, 0, 0.3));\n",
              "      fill: #FFFFFF;\n",
              "    }\n",
              "  </style>\n",
              "\n",
              "    <script>\n",
              "      const buttonEl =\n",
              "        document.querySelector('#df-588b6efe-2750-4c24-a624-1a8ffd78fc9d button.colab-df-convert');\n",
              "      buttonEl.style.display =\n",
              "        google.colab.kernel.accessAllowed ? 'block' : 'none';\n",
              "\n",
              "      async function convertToInteractive(key) {\n",
              "        const element = document.querySelector('#df-588b6efe-2750-4c24-a624-1a8ffd78fc9d');\n",
              "        const dataTable =\n",
              "          await google.colab.kernel.invokeFunction('convertToInteractive',\n",
              "                                                    [key], {});\n",
              "        if (!dataTable) return;\n",
              "\n",
              "        const docLinkHtml = 'Like what you see? Visit the ' +\n",
              "          '<a target=\"_blank\" href=https://colab.research.google.com/notebooks/data_table.ipynb>data table notebook</a>'\n",
              "          + ' to learn more about interactive tables.';\n",
              "        element.innerHTML = '';\n",
              "        dataTable['output_type'] = 'display_data';\n",
              "        await google.colab.output.renderOutput(dataTable, element);\n",
              "        const docLink = document.createElement('div');\n",
              "        docLink.innerHTML = docLinkHtml;\n",
              "        element.appendChild(docLink);\n",
              "      }\n",
              "    </script>\n",
              "  </div>\n",
              "\n",
              "\n",
              "<div id=\"df-17108520-4f2d-4537-845a-6557b6d6a243\">\n",
              "  <button class=\"colab-df-quickchart\" onclick=\"quickchart('df-17108520-4f2d-4537-845a-6557b6d6a243')\"\n",
              "            title=\"Suggest charts.\"\n",
              "            style=\"display:none;\">\n",
              "\n",
              "<svg xmlns=\"http://www.w3.org/2000/svg\" height=\"24px\"viewBox=\"0 0 24 24\"\n",
              "     width=\"24px\">\n",
              "    <g>\n",
              "        <path d=\"M19 3H5c-1.1 0-2 .9-2 2v14c0 1.1.9 2 2 2h14c1.1 0 2-.9 2-2V5c0-1.1-.9-2-2-2zM9 17H7v-7h2v7zm4 0h-2V7h2v10zm4 0h-2v-4h2v4z\"/>\n",
              "    </g>\n",
              "</svg>\n",
              "  </button>\n",
              "\n",
              "<style>\n",
              "  .colab-df-quickchart {\n",
              "      --bg-color: #E8F0FE;\n",
              "      --fill-color: #1967D2;\n",
              "      --hover-bg-color: #E2EBFA;\n",
              "      --hover-fill-color: #174EA6;\n",
              "      --disabled-fill-color: #AAA;\n",
              "      --disabled-bg-color: #DDD;\n",
              "  }\n",
              "\n",
              "  [theme=dark] .colab-df-quickchart {\n",
              "      --bg-color: #3B4455;\n",
              "      --fill-color: #D2E3FC;\n",
              "      --hover-bg-color: #434B5C;\n",
              "      --hover-fill-color: #FFFFFF;\n",
              "      --disabled-bg-color: #3B4455;\n",
              "      --disabled-fill-color: #666;\n",
              "  }\n",
              "\n",
              "  .colab-df-quickchart {\n",
              "    background-color: var(--bg-color);\n",
              "    border: none;\n",
              "    border-radius: 50%;\n",
              "    cursor: pointer;\n",
              "    display: none;\n",
              "    fill: var(--fill-color);\n",
              "    height: 32px;\n",
              "    padding: 0;\n",
              "    width: 32px;\n",
              "  }\n",
              "\n",
              "  .colab-df-quickchart:hover {\n",
              "    background-color: var(--hover-bg-color);\n",
              "    box-shadow: 0 1px 2px rgba(60, 64, 67, 0.3), 0 1px 3px 1px rgba(60, 64, 67, 0.15);\n",
              "    fill: var(--button-hover-fill-color);\n",
              "  }\n",
              "\n",
              "  .colab-df-quickchart-complete:disabled,\n",
              "  .colab-df-quickchart-complete:disabled:hover {\n",
              "    background-color: var(--disabled-bg-color);\n",
              "    fill: var(--disabled-fill-color);\n",
              "    box-shadow: none;\n",
              "  }\n",
              "\n",
              "  .colab-df-spinner {\n",
              "    border: 2px solid var(--fill-color);\n",
              "    border-color: transparent;\n",
              "    border-bottom-color: var(--fill-color);\n",
              "    animation:\n",
              "      spin 1s steps(1) infinite;\n",
              "  }\n",
              "\n",
              "  @keyframes spin {\n",
              "    0% {\n",
              "      border-color: transparent;\n",
              "      border-bottom-color: var(--fill-color);\n",
              "      border-left-color: var(--fill-color);\n",
              "    }\n",
              "    20% {\n",
              "      border-color: transparent;\n",
              "      border-left-color: var(--fill-color);\n",
              "      border-top-color: var(--fill-color);\n",
              "    }\n",
              "    30% {\n",
              "      border-color: transparent;\n",
              "      border-left-color: var(--fill-color);\n",
              "      border-top-color: var(--fill-color);\n",
              "      border-right-color: var(--fill-color);\n",
              "    }\n",
              "    40% {\n",
              "      border-color: transparent;\n",
              "      border-right-color: var(--fill-color);\n",
              "      border-top-color: var(--fill-color);\n",
              "    }\n",
              "    60% {\n",
              "      border-color: transparent;\n",
              "      border-right-color: var(--fill-color);\n",
              "    }\n",
              "    80% {\n",
              "      border-color: transparent;\n",
              "      border-right-color: var(--fill-color);\n",
              "      border-bottom-color: var(--fill-color);\n",
              "    }\n",
              "    90% {\n",
              "      border-color: transparent;\n",
              "      border-bottom-color: var(--fill-color);\n",
              "    }\n",
              "  }\n",
              "</style>\n",
              "\n",
              "  <script>\n",
              "    async function quickchart(key) {\n",
              "      const quickchartButtonEl =\n",
              "        document.querySelector('#' + key + ' button');\n",
              "      quickchartButtonEl.disabled = true;  // To prevent multiple clicks.\n",
              "      quickchartButtonEl.classList.add('colab-df-spinner');\n",
              "      try {\n",
              "        const charts = await google.colab.kernel.invokeFunction(\n",
              "            'suggestCharts', [key], {});\n",
              "      } catch (error) {\n",
              "        console.error('Error during call to suggestCharts:', error);\n",
              "      }\n",
              "      quickchartButtonEl.classList.remove('colab-df-spinner');\n",
              "      quickchartButtonEl.classList.add('colab-df-quickchart-complete');\n",
              "    }\n",
              "    (() => {\n",
              "      let quickchartButtonEl =\n",
              "        document.querySelector('#df-17108520-4f2d-4537-845a-6557b6d6a243 button');\n",
              "      quickchartButtonEl.style.display =\n",
              "        google.colab.kernel.accessAllowed ? 'block' : 'none';\n",
              "    })();\n",
              "  </script>\n",
              "</div>\n",
              "    </div>\n",
              "  </div>\n"
            ]
          },
          "metadata": {},
          "execution_count": 3
        }
      ]
    },
    {
      "cell_type": "markdown",
      "source": [
        "#### Some Basic Operations."
      ],
      "metadata": {
        "id": "uDhx2uHVjNhN"
      }
    },
    {
      "cell_type": "code",
      "source": [
        "# Following command gives whole information of given dataset.\n",
        "\n",
        "tran.info()"
      ],
      "metadata": {
        "colab": {
          "base_uri": "https://localhost:8080/"
        },
        "id": "IIodzvo4BiXF",
        "outputId": "b7c32840-a947-453d-d0cd-ace096b078cf"
      },
      "execution_count": null,
      "outputs": [
        {
          "output_type": "stream",
          "name": "stdout",
          "text": [
            "<class 'pandas.core.frame.DataFrame'>\n",
            "RangeIndex: 20000 entries, 0 to 19999\n",
            "Data columns (total 13 columns):\n",
            " #   Column                   Non-Null Count  Dtype  \n",
            "---  ------                   --------------  -----  \n",
            " 0   transaction_id           20000 non-null  int64  \n",
            " 1   product_id               20000 non-null  int64  \n",
            " 2   customer_id              20000 non-null  int64  \n",
            " 3   transaction_date         20000 non-null  object \n",
            " 4   online_order             19640 non-null  object \n",
            " 5   order_status             20000 non-null  object \n",
            " 6   brand                    19803 non-null  object \n",
            " 7   product_line             19803 non-null  object \n",
            " 8   product_class            19803 non-null  object \n",
            " 9   product_size             19803 non-null  object \n",
            " 10  list_price               20000 non-null  float64\n",
            " 11  standard_cost            19803 non-null  object \n",
            " 12  product_first_sold_date  19803 non-null  float64\n",
            "dtypes: float64(2), int64(3), object(8)\n",
            "memory usage: 2.0+ MB\n"
          ]
        }
      ]
    },
    {
      "cell_type": "code",
      "source": [
        "# Following command calculates order pair of given dataset.\n",
        "\n",
        "tran.shape"
      ],
      "metadata": {
        "colab": {
          "base_uri": "https://localhost:8080/"
        },
        "id": "MJwCqIt6ClFl",
        "outputId": "6deae50a-cd64-4c04-dc23-543100b9af62"
      },
      "execution_count": null,
      "outputs": [
        {
          "output_type": "execute_result",
          "data": {
            "text/plain": [
              "(20000, 13)"
            ]
          },
          "metadata": {},
          "execution_count": 58
        }
      ]
    },
    {
      "cell_type": "code",
      "source": [
        "# Following command tells if there is any missing valiue in given dataset.\n",
        "\n",
        "tran.isnull().sum()"
      ],
      "metadata": {
        "colab": {
          "base_uri": "https://localhost:8080/"
        },
        "id": "8N5i4RiCButO",
        "outputId": "107c3272-515f-4d5e-94bf-a9f634a62b00"
      },
      "execution_count": null,
      "outputs": [
        {
          "output_type": "execute_result",
          "data": {
            "text/plain": [
              "transaction_id               0\n",
              "product_id                   0\n",
              "customer_id                  0\n",
              "transaction_date             0\n",
              "online_order               360\n",
              "order_status                 0\n",
              "brand                      197\n",
              "product_line               197\n",
              "product_class              197\n",
              "product_size               197\n",
              "list_price                   0\n",
              "standard_cost              197\n",
              "product_first_sold_date    197\n",
              "dtype: int64"
            ]
          },
          "metadata": {},
          "execution_count": 59
        }
      ]
    },
    {
      "cell_type": "code",
      "source": [
        "# Following command drops missing values of given dataset.\n",
        "\n",
        "tran.dropna(inplace = True)\n",
        "tran.isnull().sum()"
      ],
      "metadata": {
        "id": "0ZhgSlSCDBni",
        "colab": {
          "base_uri": "https://localhost:8080/"
        },
        "outputId": "d56e64b3-6859-4030-ca4a-243f6231d558"
      },
      "execution_count": null,
      "outputs": [
        {
          "output_type": "execute_result",
          "data": {
            "text/plain": [
              "transaction_id             0\n",
              "product_id                 0\n",
              "customer_id                0\n",
              "transaction_date           0\n",
              "online_order               0\n",
              "order_status               0\n",
              "brand                      0\n",
              "product_line               0\n",
              "product_class              0\n",
              "product_size               0\n",
              "list_price                 0\n",
              "standard_cost              0\n",
              "product_first_sold_date    0\n",
              "dtype: int64"
            ]
          },
          "metadata": {},
          "execution_count": 80
        }
      ]
    },
    {
      "cell_type": "code",
      "source": [
        "# Following command calculate order pair of given dataset.\n",
        "# After droping missing values.\n",
        "\n",
        "tran.shape"
      ],
      "metadata": {
        "colab": {
          "base_uri": "https://localhost:8080/"
        },
        "id": "7BWuT_nUhRuD",
        "outputId": "c441cec0-0016-449c-a85b-3133f468071f"
      },
      "execution_count": null,
      "outputs": [
        {
          "output_type": "execute_result",
          "data": {
            "text/plain": [
              "(19445, 13)"
            ]
          },
          "metadata": {},
          "execution_count": 62
        }
      ]
    },
    {
      "cell_type": "code",
      "source": [
        "# Following command gives column names of entire dataset.\n",
        "\n",
        "tran.columns"
      ],
      "metadata": {
        "colab": {
          "base_uri": "https://localhost:8080/"
        },
        "id": "VDGNb3bFhWbf",
        "outputId": "6ee261b1-98f1-4924-c529-b7781b330ce1"
      },
      "execution_count": null,
      "outputs": [
        {
          "output_type": "execute_result",
          "data": {
            "text/plain": [
              "Index(['transaction_id', 'product_id', 'customer_id', 'transaction_date',\n",
              "       'online_order', 'order_status', 'brand', 'product_line',\n",
              "       'product_class', 'product_size', 'list_price', 'standard_cost',\n",
              "       'product_first_sold_date'],\n",
              "      dtype='object')"
            ]
          },
          "metadata": {},
          "execution_count": 63
        }
      ]
    },
    {
      "cell_type": "code",
      "source": [
        "# Following command Explore \"online_order\" column.\n",
        "\n",
        "tran.online_order.value_counts()"
      ],
      "metadata": {
        "colab": {
          "base_uri": "https://localhost:8080/"
        },
        "id": "CtqoXuW-R-LY",
        "outputId": "6f9c21a7-1fb0-435c-d179-07b579edd6f1"
      },
      "execution_count": null,
      "outputs": [
        {
          "output_type": "execute_result",
          "data": {
            "text/plain": [
              "True     9739\n",
              "False    9706\n",
              "Name: online_order, dtype: int64"
            ]
          },
          "metadata": {},
          "execution_count": 64
        }
      ]
    },
    {
      "cell_type": "code",
      "source": [
        "# Following command Explore \"order_status\" column.\n",
        "\n",
        "tran.order_status.value_counts()"
      ],
      "metadata": {
        "colab": {
          "base_uri": "https://localhost:8080/"
        },
        "id": "t6FKGEl-SHM6",
        "outputId": "b5069210-c678-427f-cecd-755545da72c5"
      },
      "execution_count": null,
      "outputs": [
        {
          "output_type": "execute_result",
          "data": {
            "text/plain": [
              "Approved     19273\n",
              "Cancelled      172\n",
              "Name: order_status, dtype: int64"
            ]
          },
          "metadata": {},
          "execution_count": 65
        }
      ]
    },
    {
      "cell_type": "code",
      "source": [
        "# Following command Explore \"product_class\" column.\n",
        "\n",
        "tran.product_class.value_counts()"
      ],
      "metadata": {
        "colab": {
          "base_uri": "https://localhost:8080/"
        },
        "id": "u4SP0NQqSPPJ",
        "outputId": "3b7b3f15-9a30-486b-ebd0-e676ca9f35a5"
      },
      "execution_count": null,
      "outputs": [
        {
          "output_type": "execute_result",
          "data": {
            "text/plain": [
              "medium    13587\n",
              "high       2952\n",
              "low        2906\n",
              "Name: product_class, dtype: int64"
            ]
          },
          "metadata": {},
          "execution_count": 66
        }
      ]
    },
    {
      "cell_type": "code",
      "source": [
        "# Following command Explore \"product_size\" column.\n",
        "\n",
        "tran.product_size.value_counts()"
      ],
      "metadata": {
        "colab": {
          "base_uri": "https://localhost:8080/"
        },
        "id": "rJW7oy8ZSUr-",
        "outputId": "c99d8662-d730-40aa-8e40-203121c5281b"
      },
      "execution_count": null,
      "outputs": [
        {
          "output_type": "execute_result",
          "data": {
            "text/plain": [
              "medium    12767\n",
              "large      3900\n",
              "small      2778\n",
              "Name: product_size, dtype: int64"
            ]
          },
          "metadata": {},
          "execution_count": 67
        }
      ]
    },
    {
      "cell_type": "code",
      "source": [
        "# Following command calculate duplicate value in given dataset, if exists.\n",
        "\n",
        "tran.duplicated().sum()"
      ],
      "metadata": {
        "colab": {
          "base_uri": "https://localhost:8080/"
        },
        "id": "Ls1mYQcghd3t",
        "outputId": "649af175-fcc4-489f-e708-95b306d7d832"
      },
      "execution_count": null,
      "outputs": [
        {
          "output_type": "execute_result",
          "data": {
            "text/plain": [
              "0"
            ]
          },
          "metadata": {},
          "execution_count": 68
        }
      ]
    },
    {
      "cell_type": "markdown",
      "source": [
        "#### Convert Float to datetime at first_sold column"
      ],
      "metadata": {
        "id": "_jVF5kiVjQCN"
      }
    },
    {
      "cell_type": "code",
      "source": [
        "# Following command gives data type of \"first_sold\" column before converting in given dataset.\n",
        "\n",
        "tran.product_first_sold_date.dtype"
      ],
      "metadata": {
        "colab": {
          "base_uri": "https://localhost:8080/"
        },
        "id": "gTD9FkhXhrzT",
        "outputId": "e8045da8-ec02-4c49-8cfd-2442c6e1c650"
      },
      "execution_count": null,
      "outputs": [
        {
          "output_type": "execute_result",
          "data": {
            "text/plain": [
              "dtype('float64')"
            ]
          },
          "metadata": {},
          "execution_count": 69
        }
      ]
    },
    {
      "cell_type": "code",
      "source": [
        "# Following command replace data type of first_sold column in given dataset.\n",
        "\n",
        "tran['product_first_sold_date'] = pd.to_datetime(tran['product_first_sold_date'], unit='s')"
      ],
      "metadata": {
        "id": "NATaEWReiLWE"
      },
      "execution_count": null,
      "outputs": []
    },
    {
      "cell_type": "code",
      "source": [
        "# Following command return \"first_sold\" column after replacing.\n",
        "\n",
        "tran.product_first_sold_date"
      ],
      "metadata": {
        "colab": {
          "base_uri": "https://localhost:8080/"
        },
        "id": "CTdKAQHgmbkz",
        "outputId": "83aa10e4-7767-448e-86ea-11c6778bb0f5"
      },
      "execution_count": null,
      "outputs": [
        {
          "output_type": "execute_result",
          "data": {
            "text/plain": [
              "0       1970-01-01 11:27:25\n",
              "1       1970-01-01 11:35:01\n",
              "2       1970-01-01 10:06:01\n",
              "3       1970-01-01 10:02:25\n",
              "4       1970-01-01 11:43:46\n",
              "                ...        \n",
              "19995   1970-01-01 10:30:23\n",
              "19996   1970-01-01 09:52:40\n",
              "19997   1970-01-01 11:13:30\n",
              "19998   1970-01-01 10:36:56\n",
              "19999   1970-01-01 10:05:34\n",
              "Name: product_first_sold_date, Length: 19445, dtype: datetime64[ns]"
            ]
          },
          "metadata": {},
          "execution_count": 73
        }
      ]
    },
    {
      "cell_type": "code",
      "source": [
        "# Following command gives data type of \"first_sold\" column after converting in given dataset.\n",
        "\n",
        "tran.product_first_sold_date.dtype"
      ],
      "metadata": {
        "colab": {
          "base_uri": "https://localhost:8080/"
        },
        "id": "QN1dWzwbhSdY",
        "outputId": "ae1c5c45-5088-4521-c557-455eb5817199"
      },
      "execution_count": null,
      "outputs": [
        {
          "output_type": "execute_result",
          "data": {
            "text/plain": [
              "dtype('<M8[ns]')"
            ]
          },
          "metadata": {},
          "execution_count": 71
        }
      ]
    },
    {
      "cell_type": "markdown",
      "source": [
        "#### Add currency in price_list column of Given dataset"
      ],
      "metadata": {
        "id": "e4-uBlwhjR68"
      }
    },
    {
      "cell_type": "code",
      "source": [
        "# Following command return \"list_price\" column before editing.\n",
        "\n",
        "tran.list_price"
      ],
      "metadata": {
        "colab": {
          "base_uri": "https://localhost:8080/"
        },
        "id": "SuMB1XwGt39F",
        "outputId": "6d86afc1-be56-4f8f-cf30-b8f5a6124094"
      },
      "execution_count": null,
      "outputs": [
        {
          "output_type": "execute_result",
          "data": {
            "text/plain": [
              "0          71.49\n",
              "1        2091.47\n",
              "2        1793.43\n",
              "3        1198.46\n",
              "4        1765.30\n",
              "          ...   \n",
              "19995    2005.66\n",
              "19996     416.98\n",
              "19997    1636.90\n",
              "19998     227.88\n",
              "19999    1775.81\n",
              "Name: list_price, Length: 19445, dtype: float64"
            ]
          },
          "metadata": {},
          "execution_count": 82
        }
      ]
    },
    {
      "cell_type": "code",
      "source": [
        "# Following command edit \"list_price\" column, add $ sign\n",
        "\n",
        "tran[\"list_price\"] = tran[\"list_price\"].map(\"${:,.0f}\".format)"
      ],
      "metadata": {
        "id": "CkFUzOKUstPn"
      },
      "execution_count": null,
      "outputs": []
    },
    {
      "cell_type": "code",
      "source": [
        "# Following command return \"list_price\" column after editing.\n",
        "\n",
        "tran.list_price"
      ],
      "metadata": {
        "colab": {
          "base_uri": "https://localhost:8080/"
        },
        "id": "Lvf7toInt09T",
        "outputId": "9eead40e-25ed-4063-c59c-d23fcf573edd"
      },
      "execution_count": null,
      "outputs": [
        {
          "output_type": "execute_result",
          "data": {
            "text/plain": [
              "0           $71\n",
              "1        $2,091\n",
              "2        $1,793\n",
              "3        $1,198\n",
              "4        $1,765\n",
              "          ...  \n",
              "19995    $2,006\n",
              "19996      $417\n",
              "19997    $1,637\n",
              "19998      $228\n",
              "19999    $1,776\n",
              "Name: list_price, Length: 19445, dtype: object"
            ]
          },
          "metadata": {},
          "execution_count": 84
        }
      ]
    },
    {
      "cell_type": "markdown",
      "source": [
        "#### Graphical view"
      ],
      "metadata": {
        "id": "ctBJF6grO6iG"
      }
    },
    {
      "cell_type": "code",
      "source": [
        "# Following command shows the graphical view of \"Brand\" column\n",
        "\n",
        "plt.figure(figsize=(10,6))\n",
        "count = sns.countplot(x= tran['brand'], data=tran)\n",
        "plt.title(\"Number of sales in different cycle brands\")\n",
        "plt.show()\n"
      ],
      "metadata": {
        "colab": {
          "base_uri": "https://localhost:8080/",
          "height": 564
        },
        "id": "K6QdKDfrBJC_",
        "outputId": "5f40672d-a7bb-4722-b6ea-1ba32a6ab434"
      },
      "execution_count": null,
      "outputs": [
        {
          "output_type": "display_data",
          "data": {
            "text/plain": [
              "<Figure size 1000x600 with 1 Axes>"
            ],
            "image/png": "[encoded data removed]"
          },
          "metadata": {}
        }
      ]
    },
    {
      "cell_type": "code",
      "source": [
        "# Following commands shows the relationship between different brands with product line\n",
        "\n",
        "counts = tran.groupby(['brand', 'product_line']).size().reset_index(name='Count')\n",
        "pivot_counts = counts.pivot(index='brand', columns='product_line', values='Count')\n",
        "# Create a bar plot\n",
        "pivot_counts.plot(kind='bar', figsize=(15, 8), width=0.8)\n",
        "# Creating a line\n",
        "separation_lines = [1, 2, 3, 4, 5]\n",
        "for line in separation_lines:\n",
        "    plt.axvline(x=line - 0.5, color='grey', linestyle='--')\n",
        "plt.xlabel('Brand')\n",
        "plt.ylabel('Counts of Transaction')\n",
        "plt.title('Brand vs Product line')\n",
        "plt.xticks(rotation = 0)\n",
        "plt.show()"
      ],
      "metadata": {
        "colab": {
          "base_uri": "https://localhost:8080/",
          "height": 718
        },
        "id": "-C5RetgXR3by",
        "outputId": "c6d0aebd-150e-441d-ba60-41e0fb6469b0"
      },
      "execution_count": null,
      "outputs": [
        {
          "output_type": "display_data",
          "data": {
            "text/plain": [
              "<Figure size 1500x800 with 1 Axes>"
            ],
            "image/png": "[encoded data removed]"
          },
          "metadata": {}
        }
      ]
    },
    {
      "cell_type": "code",
      "source": [
        "# Following commands shows the relationship between different brands with product class\n",
        "\n",
        "counts = tran.groupby(['brand', 'product_class']).size().reset_index(name='Count')\n",
        "# Pivot the data for plotting\n",
        "pivot_counts =counts.pivot(index='brand', columns='product_class', values='Count')\n",
        "# Create a bar plot\n",
        "pivot_counts.plot(kind='bar', figsize=(15, 8), width=0.8)\n",
        "# Creating a line\n",
        "separation_lines = [1, 2, 3, 4, 5]\n",
        "for line in separation_lines:\n",
        "    plt.axvline(x=line - 0.5, color='grey', linestyle='--')\n",
        "# Set labels and title\n",
        "plt.xlabel('Brand')\n",
        "plt.ylabel('Counts of Transaction')\n",
        "plt.title('Brand vs Product Class')\n",
        "plt.xticks(rotation = 0)\n",
        "plt.show()"
      ],
      "metadata": {
        "colab": {
          "base_uri": "https://localhost:8080/",
          "height": 718
        },
        "id": "JbVN0tVfXO4-",
        "outputId": "eb1f0486-c72a-4ca3-cc80-6ccd6392834c"
      },
      "execution_count": null,
      "outputs": [
        {
          "output_type": "display_data",
          "data": {
            "text/plain": [
              "<Figure size 1500x800 with 1 Axes>"
            ],
            "image/png": "[encoded data removed]"
          },
          "metadata": {}
        }
      ]
    }
  ]
}